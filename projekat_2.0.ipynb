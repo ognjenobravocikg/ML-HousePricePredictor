{
 "cells": [
  {
   "cell_type": "code",
   "execution_count": null,
   "metadata": {},
   "outputs": [],
   "source": [
    "import pandas as pd\n",
    "import matplotlib.pyplot as plt\n",
    "import numpy as np\n",
    "import seaborn as sb"
   ]
  },
  {
   "cell_type": "markdown",
   "metadata": {},
   "source": [
    "absoluteError = pd.DataFrame({'Id': real['Id'], 'Predicted': prediction, 'Real': real['SalePrice'], 'AbsoluteError': abs(prediction - real['SalePrice']) })\n",
    "    \n",
    "    if max_leaf_nodes == 2:\n",
    "        final = absoluteError\n",
    "        continue\n",
    "\n",
    "    if absoluteError['AbsoluteError'].mean() < final['AbsoluteError'].mean(): final = absoluteError"
   ]
  },
  {
   "cell_type": "code",
   "execution_count": null,
   "metadata": {},
   "outputs": [],
   "source": [
    "# Ucitavanje training podataka, test podataka, i stvarnih vrednosti koje bismo trebali da predvidimo\n",
    "\n",
    "data = pd.read_csv('./train.csv')\n",
    "test = pd.read_csv('./test.csv')\n",
    "real = pd.read_csv('./sample_submission.csv')"
   ]
  },
  {
   "cell_type": "code",
   "execution_count": null,
   "metadata": {},
   "outputs": [],
   "source": [
    "# Ne menjati ChangeWith zato sto je smisleno poredjano\n",
    "# Zamena object-a u int samo onih podataka koji su zavisni\n",
    "\n",
    "toChange = ['LotShape'    , 'LandSlope'   , 'ExterQual'   , 'ExterCond'   , 'BsmtQual',\n",
    "            'BsmtCond'    , 'BsmtExposure', 'BsmtFinType1', 'BsmtFinType2', 'Fence',\n",
    "            'HeatingQC'   , 'CentralAir'  , 'KitchenQual' , 'Functional'  , 'FireplaceQu', \n",
    "            'GarageFinish', 'GarageQual'  , 'GarageCond'  , 'PoolQC'                      \n",
    "            ]\n",
    "\n",
    "ChangeWith = {'GLQ' : 6,  \n",
    "              'ALQ' : 5, 'Ex' : 5,\n",
    "              'BLQ' : 4, 'Gd' : 4, 'GdPrv' : 4,\n",
    "              'Rec' : 3, 'TA' : 3, 'Av'    : 3, 'Fin' : 3, 'MnPrv' : 3,\n",
    "              'LwQ' : 2, 'Fa' : 2, 'Mn'    : 2, 'RFn' : 2, 'GdWo'  : 2,\n",
    "              'Unf' : 1, 'Po' : 1, 'No'    : 1, 'Unf' : 1, 'MnWw'  : 1,\n",
    "              'NA'  : 0\n",
    "              }\n",
    "\n",
    "for header in toChange:\n",
    "    data[header] = data[header].replace(ChangeWith)\n",
    "    test[header] = test[header].replace(ChangeWith)"
   ]
  },
  {
   "cell_type": "code",
   "execution_count": null,
   "metadata": {},
   "outputs": [],
   "source": [
    "# Odbacivanje kolona kojima fali vise od 20% podataka\n",
    "\n",
    "toDrop = []\n",
    "for header in data.columns: \n",
    "    if ((data[header].isnull().sum() / len(data[header])) * 100) >= 15: toDrop.append(header)\n",
    "\n",
    "for dropItem in toDrop:\n",
    "    data = data.drop(dropItem, axis=1)\n",
    "    test = test.drop(dropItem, axis=1)"
   ]
  },
  {
   "cell_type": "code",
   "execution_count": null,
   "metadata": {},
   "outputs": [],
   "source": [
    "# Odvajanje kolona sa object podacima\n",
    "# Razbijanje svih object kolona sa nepovezanim podacima u nove kolone\n",
    "\n",
    "categorical = data.select_dtypes(include=['object']).columns.tolist()\n",
    "for header in categorical:\n",
    "    data = data.join(pd.get_dummies(data[header], prefix=header))\n",
    "    data = data.drop(header, axis=1)\n",
    "    test = test.join(pd.get_dummies(test[header], prefix=header))\n",
    "    test = test.drop(header, axis=1)"
   ]
  },
  {
   "cell_type": "code",
   "execution_count": null,
   "metadata": {},
   "outputs": [],
   "source": [
    "# Popunjavanje svih praznih polja gde fale vrednosti\n",
    "\n",
    "for header in data.columns:\n",
    "    data[header].fillna(data[header].mean(), inplace=True)\n",
    "    if header not in test.columns: continue\n",
    "    test[header].fillna(test[header].mean(), inplace=True)"
   ]
  },
  {
   "cell_type": "code",
   "execution_count": null,
   "metadata": {},
   "outputs": [],
   "source": [
    "# Zamena svih True i False vrednosti sa 1 i 0\n",
    "\n",
    "data.replace({True: 1, False: 0}, inplace=True)\n",
    "test.replace({True: 1, False: 0}, inplace=True)"
   ]
  },
  {
   "cell_type": "code",
   "execution_count": null,
   "metadata": {},
   "outputs": [],
   "source": [
    "#data.hist(figsize=(50, 25)) #generisarnje histograma\n",
    "#plt.figure(figsize=(200, 100))\n",
    "#sb.heatmap(data.corr(), annot=True, cmap='YlGnBu') #generisanje grafika korelacije"
   ]
  },
  {
   "cell_type": "code",
   "execution_count": null,
   "metadata": {},
   "outputs": [],
   "source": [
    "from sklearn.ensemble import RandomForestRegressor\n",
    "from sklearn.tree import DecisionTreeRegressor\n",
    "from sklearn.model_selection import train_test_split\n",
    "from sklearn.metrics import accuracy_score, mean_squared_error"
   ]
  },
  {
   "cell_type": "code",
   "execution_count": null,
   "metadata": {},
   "outputs": [],
   "source": [
    "\n",
    "# Dodavanje onih polja koja fale u test podacima a postoje u trening primerima\n",
    "for header in data.columns:\n",
    "    if header not in test.columns:\n",
    "        test[header] = 0\n",
    "\n",
    "data = data[sorted(data.columns)]\n",
    "test = test[sorted(test.columns)]\n",
    "\n",
    "y = data['SalePrice']\n",
    "X = data\n"
   ]
  },
  {
   "cell_type": "code",
   "execution_count": null,
   "metadata": {},
   "outputs": [],
   "source": [
    "from sklearn.model_selection import GridSearchCV"
   ]
  },
  {
   "cell_type": "code",
   "execution_count": null,
   "metadata": {},
   "outputs": [],
   "source": [
    "model = RandomForestRegressor(max_leaf_nodes=724)\n",
    "model.fit(X, y)\n",
    "\n",
    "prediction = model.predict(X=test)"
   ]
  },
  {
   "cell_type": "code",
   "execution_count": null,
   "metadata": {},
   "outputs": [],
   "source": [
    "prediction += 150000 # BRUTE FORCE HAHAHA\n",
    "# Pitanje je zasto prediktuje cenu za 150k nize?"
   ]
  },
  {
   "cell_type": "code",
   "execution_count": 20,
   "metadata": {},
   "outputs": [
    {
     "data": {
      "text/plain": [
       "15379.37414240213"
      ]
     },
     "execution_count": 20,
     "metadata": {},
     "output_type": "execute_result"
    }
   ],
   "source": [
    "absoluteError = pd.DataFrame({'Id': real['Id'], 'Predicted': prediction, 'Real': real['SalePrice'], 'AbsoluteError': abs(prediction - real['SalePrice']) })\n",
    "absoluteError['AbsoluteError'].mean()"
   ]
  }
 ],
 "metadata": {
  "kernelspec": {
   "display_name": "base",
   "language": "python",
   "name": "python3"
  },
  "language_info": {
   "codemirror_mode": {
    "name": "ipython",
    "version": 3
   },
   "file_extension": ".py",
   "mimetype": "text/x-python",
   "name": "python",
   "nbconvert_exporter": "python",
   "pygments_lexer": "ipython3",
   "version": "3.11.4"
  }
 },
 "nbformat": 4,
 "nbformat_minor": 2
}
