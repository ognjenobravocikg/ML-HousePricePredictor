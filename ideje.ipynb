{
 "cells": [
  {
   "cell_type": "markdown",
   "metadata": {},
   "source": [
    "Narednih dana cu se pobrinuti da ispod navedene stvari odradim.\n",
    "\n",
    "Verujem da ce konkretno .Street kolona doprineti poboljsanju efikasnosti modela. \\n\n",
    "\n",
    "Necu sve ne numericke vrednosti da obradim \"rucno\", samo one koje smatram da ce biti od koristi.\n",
    "\n",
    "Da li ti odgovara da izucis razlicite modele linearne regresije i da ih testiras kako bi poredili njihovu efikasnost?\n"
   ]
  },
  {
   "cell_type": "markdown",
   "metadata": {},
   "source": [
    "--------------"
   ]
  },
  {
   "cell_type": "markdown",
   "metadata": {},
   "source": [
    "FEATURES.*\n",
    "\n",
    "\n",
    "IDEJA:\n",
    "Sve ne numericke vrednosti predstaviti smisleno numericki.\n",
    "\n",
    "RAZLOG:\n",
    "Ako u FEATURES ubacimo ne numericku vrednost program ce pasti!"
   ]
  },
  {
   "cell_type": "markdown",
   "metadata": {},
   "source": [
    "--------------"
   ]
  },
  {
   "cell_type": "markdown",
   "metadata": {},
   "source": [
    "FEATURES.Street\n",
    "\n",
    "\n",
    "IDEJA:\n",
    "Da li je ulica bitna u gradu? - Naravno da jeste!\n",
    "\n",
    "OBJASNJENJE:\n",
    "Udaljenost od najpopularnijeg dela grada moze pozitivno da utice na cenu kuce, ALI\n",
    "ako se kuca nalazi odmah do industrijske zone to moze vise da obori cenu nego da se ista nalazi duplo dalje od centra ali u \"mirnom\" kraju.\n",
    "\n",
    "RESENJE:\n",
    "Locirati ulicu i odmeriti udaljenost od najpopularnijeg dela grada, potom tu razdaljinu SRAZMERNO skalirati u rasponu od -1 do 1!\n",
    "AKO je kuca bliza \"ruznom\" deo grada, to ce negativno uticati na cenu kuce.\n"
   ]
  },
  {
   "cell_type": "markdown",
   "metadata": {},
   "source": [
    "--------------"
   ]
  }
 ],
 "metadata": {
  "language_info": {
   "name": "python"
  }
 },
 "nbformat": 4,
 "nbformat_minor": 2
}
